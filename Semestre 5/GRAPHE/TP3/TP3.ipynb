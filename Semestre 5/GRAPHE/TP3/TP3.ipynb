{
 "cells": [
  {
   "cell_type": "markdown",
   "metadata": {},
   "source": [
    "# TP3 - détection de graphes biparti"
   ]
  },
  {
   "cell_type": "markdown",
   "metadata": {},
   "source": [
    "Dans le cours, [chapitre 2, page 32](http://www.fil.univ-lille1.fr/~varre/portail/graphes/docs/chap02-parcours.pdf), il est question des graphes biparti comme une application au parcours de graphes.\n",
    "\n",
    "L'objectif de ce TP est de mettre en œuvre l'algorithme décrit dans ce chapitre et de comprendre un peu mieux la caractérisation des graphes biparti."
   ]
  },
  {
   "cell_type": "code",
   "execution_count": 8,
   "metadata": {},
   "outputs": [],
   "source": [
    "import networkx as nx\n",
    "import matplotlib as plt"
   ]
  },
  {
   "cell_type": "markdown",
   "metadata": {},
   "source": [
    "## Approche du problème"
   ]
  },
  {
   "cell_type": "markdown",
   "metadata": {},
   "source": [
    "Après avoir lu la définition 11, construire à la main un graphe connexe biparti à 8 sommets, dont le nombre de sommets de chaque partition est 4, avec un minimum d'arêtes."
   ]
  },
  {
   "cell_type": "code",
   "execution_count": 9,
   "metadata": {},
   "outputs": [
    {
     "data": {
      "image/png": "[encoded data removed]",
      "text/plain": [
       "<Figure size 432x288 with 1 Axes>"
      ]
     },
     "metadata": {},
     "output_type": "display_data"
    }
   ],
   "source": [
    "g8 = nx.Graph([(0,1),(1,2),(2,3),(3,4),(4,5),(5,6),(6,7)])\n",
    "nx.draw(g8,with_labels=True)"
   ]
  },
  {
   "cell_type": "markdown",
   "metadata": {},
   "source": [
    "En nommant le graphe construit `g8`, on pourra tester qu'il est bien biparti grâce à l'algorithme fourni dans NetworkX."
   ]
  },
  {
   "cell_type": "code",
   "execution_count": 10,
   "metadata": {},
   "outputs": [
    {
     "name": "stdout",
     "output_type": "stream",
     "text": [
      "{0, 2, 4, 6} {1, 3, 5, 7}\n"
     ]
    }
   ],
   "source": [
    "from networkx.algorithms import bipartite\n",
    "v1, v2 = bipartite.sets(g8)\n",
    "print(v1,v2)"
   ]
  },
  {
   "cell_type": "markdown",
   "metadata": {},
   "source": [
    "En utilisant le code suivant permettant de créer toutes les partitions d'une liste, construire un prédicat `est_biparti_naif` qui prend en entrée un graphe non orienté NetworkX et décide si le graphe est biparti en utilisant l'algorithme naïf qui énumère toutes les partitions possibles des sommets et teste pour chaque partition si il existe une arête entre ses sommets."
   ]
  },
  {
   "cell_type": "code",
   "execution_count": 11,
   "metadata": {},
   "outputs": [],
   "source": [
    "def partition(collection):\n",
    "    \"\"\"\n",
    "    Prend en entrée une collection d'objets (typiquement une liste d'entiers) \n",
    "    et produit une énumération de toutes les partitions.\n",
    "    \n",
    "    >>> list(partition([1, 2, 3]))\n",
    "    [[[1, 2, 3]], [[1], [2, 3]], [[1, 2], [3]], [[2], [1, 3]], [[1], [2], [3]]]\n",
    "    \"\"\"\n",
    "    if len(collection) == 1:\n",
    "        yield [ collection ]\n",
    "        return\n",
    "\n",
    "    first = collection[0]\n",
    "    for smaller in partition(collection[1:]):\n",
    "        # insert `first` in each of the subpartition's subsets\n",
    "        for n, subset in enumerate(smaller):\n",
    "            yield smaller[:n] + [[ first ] + subset]  + smaller[n+1:]\n",
    "        # put `first` in its own subset \n",
    "        yield [ [ first ] ] + smaller"
   ]
  },
  {
   "cell_type": "markdown",
   "metadata": {},
   "source": [
    "Exemple d'utilisation de partition :"
   ]
  },
  {
   "cell_type": "code",
   "execution_count": 12,
   "metadata": {},
   "outputs": [
    {
     "name": "stdout",
     "output_type": "stream",
     "text": [
      "1 [[1, 2, 3, 4]]\n",
      "2 [[1], [2, 3, 4]]\n",
      "3 [[1, 2], [3, 4]]\n",
      "4 [[1, 3, 4], [2]]\n",
      "5 [[1], [2], [3, 4]]\n",
      "6 [[1, 2, 3], [4]]\n",
      "7 [[1, 4], [2, 3]]\n",
      "8 [[1], [2, 3], [4]]\n",
      "9 [[1, 3], [2, 4]]\n",
      "10 [[1, 2, 4], [3]]\n",
      "11 [[1], [2, 4], [3]]\n",
      "12 [[1, 2], [3], [4]]\n",
      "13 [[1, 3], [2], [4]]\n",
      "14 [[1, 4], [2], [3]]\n",
      "15 [[1], [2], [3], [4]]\n"
     ]
    }
   ],
   "source": [
    "something = list(range(1,5))\n",
    "for n, p in enumerate(partition(something), 1):\n",
    "    print(n, sorted(p))"
   ]
  },
  {
   "cell_type": "code",
   "execution_count": 44,
   "metadata": {},
   "outputs": [],
   "source": [
    "def est_biparti_naif (graphe):\n",
    "    res = list(graphe.nodes())\n",
    "    listpart = partition(res)\n",
    "    aretes = graphe.edges()\n",
    "    i = 0\n",
    "    for part in listpart :\n",
    "        for p in part :\n",
    "            for i in range(len(aretes)) :\n",
    "                if edges(i,p) :\n",
    "                    i+=1\n",
    "                    if i == len(part) :\n",
    "                        return True\n",
    "                else :\n",
    "                    part+=1\n",
    "            p+=1\n",
    "    return False\n",
    "    \n",
    "def edges(arete, partition) :\n",
    "    i = 0\n",
    "    res = 0\n",
    "    for p in partition :\n",
    "        for i in range(arete) :\n",
    "            if i == p :\n",
    "                res+=1\n",
    "                i+=1\n",
    "            else :\n",
    "                p+=1\n",
    "    return res!=2\n",
    "            "
   ]
  },
  {
   "cell_type": "code",
   "execution_count": 45,
   "metadata": {},
   "outputs": [
    {
     "data": {
      "text/plain": [
       "True"
      ]
     },
     "execution_count": 45,
     "metadata": {},
     "output_type": "execute_result"
    }
   ],
   "source": [
    "est_biparti_naif(g8)"
   ]
  },
  {
   "cell_type": "markdown",
   "metadata": {},
   "source": [
    "Compléter avec d'autres tests."
   ]
  },
  {
   "cell_type": "code",
   "execution_count": 27,
   "metadata": {},
   "outputs": [
    {
     "data": {
      "text/plain": [
       "True"
      ]
     },
     "execution_count": 27,
     "metadata": {},
     "output_type": "execute_result"
    }
   ],
   "source": [
    "g9 = nx.Graph([(0,1),(1,2),(0,2)])\n",
    "est_biparti_naif(g9)"
   ]
  },
  {
   "cell_type": "markdown",
   "metadata": {},
   "source": [
    "## Implantation basée sur le théorème 2.4.1"
   ]
  },
  {
   "cell_type": "markdown",
   "metadata": {},
   "source": [
    "On va maintenant implanter l'algorithme décrit dans le polycopié qui exploite le théorème 2.4.1."
   ]
  },
  {
   "cell_type": "markdown",
   "metadata": {},
   "source": [
    "Dessinner tous les graphes **connexes** à 4 sommets (on prendra soin de ne pas condidérer les graphes isomorphes). Identifier le nombre de cycles de longueur impaire pour chacun. Trouver les graphes bipartis et vérifier le théorème 2.4.1."
   ]
  },
  {
   "cell_type": "markdown",
   "metadata": {},
   "source": [
    "Appliquer à la main l'algorithme 9 du polycopié sur le graphe à 8 sommets que vous avez construit au début du TP."
   ]
  },
  {
   "cell_type": "markdown",
   "metadata": {},
   "source": [
    "Note : en NetworkX on peut ajouter des propriétés (attributs) aux sommets, et ainsi les colorier comme le font souvent les algorithmes de graphe."
   ]
  },
  {
   "cell_type": "code",
   "execution_count": null,
   "metadata": {},
   "outputs": [],
   "source": [
    "G = nx.path_graph(3)\n",
    "print(G.nodes(data=True))\n",
    "nx.set_node_attributes(G, 'white', 'color' )\n",
    "print(G.nodes(data=True))\n",
    "print(G.nodes[0]['color'])"
   ]
  },
  {
   "cell_type": "markdown",
   "metadata": {},
   "source": [
    "Implanter le prédicat `est_biparti` en utilisant l'algorithme 9 du polycopié."
   ]
  },
  {
   "cell_type": "code",
   "execution_count": null,
   "metadata": {},
   "outputs": [],
   "source": [
    "def est_biparti(graphe):\n",
    "    return True"
   ]
  },
  {
   "cell_type": "markdown",
   "metadata": {},
   "source": [
    "Tester (bien entendu)."
   ]
  },
  {
   "cell_type": "code",
   "execution_count": null,
   "metadata": {},
   "outputs": [],
   "source": []
  }
 ],
 "metadata": {
  "kernelspec": {
   "display_name": "Python 3 (ipykernel)",
   "language": "python",
   "name": "python3"
  },
  "language_info": {
   "codemirror_mode": {
    "name": "ipython",
    "version": 3
   },
   "file_extension": ".py",
   "mimetype": "text/x-python",
   "name": "python",
   "nbconvert_exporter": "python",
   "pygments_lexer": "ipython3",
   "version": "3.8.10"
  }
 },
 "nbformat": 4,
 "nbformat_minor": 4
}
