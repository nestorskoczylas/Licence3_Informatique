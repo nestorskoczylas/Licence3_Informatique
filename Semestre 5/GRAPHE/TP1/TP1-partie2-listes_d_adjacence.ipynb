{
 "cells": [
  {
   "cell_type": "markdown",
   "metadata": {},
   "source": [
    "# TP1 - partie 2\n",
    "\n",
    "Dans cette seconde partie de TP nous allons représenter des graphes par des listes d'adjacence (voir section 1.3.2 du cours)."
   ]
  },
  {
   "cell_type": "markdown",
   "metadata": {},
   "source": [
    "Le même graphe que celui donné en exemple dans la partie 1 pourra être représenté ainsi :"
   ]
  },
  {
   "cell_type": "code",
   "execution_count": 2,
   "metadata": {},
   "outputs": [],
   "source": [
    "g = [[1,2],[0,2],[0,1],[]]"
   ]
  },
  {
   "cell_type": "markdown",
   "metadata": {},
   "source": [
    "Cette fois, les numéros représentent les numéros des sommets (toujours 0-indicés)."
   ]
  },
  {
   "cell_type": "code",
   "execution_count": 3,
   "metadata": {},
   "outputs": [
    {
     "data": {
      "text/plain": [
       "[[1, 2], [0, 2], [0, 1], []]"
      ]
     },
     "execution_count": 3,
     "metadata": {},
     "output_type": "execute_result"
    }
   ],
   "source": [
    "g"
   ]
  },
  {
   "cell_type": "markdown",
   "metadata": {},
   "source": [
    "Les listes de sommets adjacents ne sont pas nécessairement ordonnées. Par exemple pour la liste des voisisns du sommet 1 on aurait pu écrire `[2,0]` plutôt que `[0,2]`. On suposera aussi qu'il n'y a pas de doublons dans ces listes."
   ]
  },
  {
   "cell_type": "markdown",
   "metadata": {},
   "source": [
    "L'accès aux voisins d'un sommet est donc immédiat."
   ]
  },
  {
   "cell_type": "code",
   "execution_count": 4,
   "metadata": {},
   "outputs": [
    {
     "data": {
      "text/plain": [
       "[1, 2]"
      ]
     },
     "execution_count": 4,
     "metadata": {},
     "output_type": "execute_result"
    }
   ],
   "source": [
    "g[0]"
   ]
  },
  {
   "cell_type": "markdown",
   "metadata": {},
   "source": [
    "Ecrire le code permettant de tester si il existe une arête entre le sommet 0 et le sommet 2. Entre le sommet 2 et le sommet 1."
   ]
  },
  {
   "cell_type": "code",
   "execution_count": 7,
   "metadata": {},
   "outputs": [
    {
     "data": {
      "text/plain": [
       "True"
      ]
     },
     "execution_count": 7,
     "metadata": {},
     "output_type": "execute_result"
    }
   ],
   "source": [
    "y = [x in g[0] for x in g[2]]\n",
    "any(y)"
   ]
  },
  {
   "cell_type": "code",
   "execution_count": 9,
   "metadata": {},
   "outputs": [
    {
     "data": {
      "text/plain": [
       "True"
      ]
     },
     "execution_count": 9,
     "metadata": {},
     "output_type": "execute_result"
    }
   ],
   "source": [
    "y = [x in g[2] for x in g[1]]\n",
    "any(y)"
   ]
  },
  {
   "cell_type": "markdown",
   "metadata": {},
   "source": [
    "Ecrire une fonction `taille` qui retourne la taille d'un graphe donné sous forme de listes d'adjacence (supposée correcte)."
   ]
  },
  {
   "cell_type": "code",
   "execution_count": 10,
   "metadata": {},
   "outputs": [],
   "source": [
    "def taille (graphe):\n",
    "    return len(graphe)"
   ]
  },
  {
   "cell_type": "code",
   "execution_count": 11,
   "metadata": {},
   "outputs": [
    {
     "data": {
      "text/plain": [
       "4"
      ]
     },
     "execution_count": 11,
     "metadata": {},
     "output_type": "execute_result"
    }
   ],
   "source": [
    "taille(g)"
   ]
  },
  {
   "cell_type": "markdown",
   "metadata": {},
   "source": [
    "Ecrire une fonction qui prend en entrée une liste de couples de numéros de sommets représentant les arêtes d'un graphe et qui retourne une liste d'adjacence représentant le graphe. On passera en paramètre le nombre de sommets."
   ]
  },
  {
   "cell_type": "code",
   "execution_count": 12,
   "metadata": {},
   "outputs": [],
   "source": [
    "def creer (graphe,nombre_de_sommets):\n",
    "    l = []\n",
    "    for i in range(nombre_de_sommets):\n",
    "        l.append([])\n",
    "        i = i + 1\n",
    "    \n",
    "    for j in graphe:\n",
    "        a = j[0]\n",
    "        b = j[1]\n",
    "        l[a].append(b)\n",
    "        l[b].append(a)\n",
    "        \n",
    "    return l\n"
   ]
  },
  {
   "cell_type": "code",
   "execution_count": 13,
   "metadata": {},
   "outputs": [
    {
     "name": "stdout",
     "output_type": "stream",
     "text": [
      "[[3], [2, 3], [1], [0, 1]]\n"
     ]
    }
   ],
   "source": [
    "g = creer([(0,3), (1, 2), (1, 3)],4)\n",
    "print(g)"
   ]
  },
  {
   "cell_type": "markdown",
   "metadata": {},
   "source": [
    "Vérifions que `g` a la bonne taille."
   ]
  },
  {
   "cell_type": "code",
   "execution_count": 14,
   "metadata": {},
   "outputs": [
    {
     "data": {
      "text/plain": [
       "4"
      ]
     },
     "execution_count": 14,
     "metadata": {},
     "output_type": "execute_result"
    }
   ],
   "source": [
    "taille(g)"
   ]
  },
  {
   "cell_type": "markdown",
   "metadata": {},
   "source": [
    "Ecrire une procédure qui étant donnés un graphe représenté par des listes d'adjacence, deux sommets (numéros de sommets) ajoute une arête entre ces deux sommets et modifie le graphe passé en paramètre."
   ]
  },
  {
   "cell_type": "code",
   "execution_count": 15,
   "metadata": {},
   "outputs": [],
   "source": [
    "def ajouter_arete (graphe, sommet1, sommet2):\n",
    "    graphe[sommet1].append(sommet2)\n",
    "    graphe[sommet2].append(sommet1)\n",
    "    return graphe"
   ]
  },
  {
   "cell_type": "code",
   "execution_count": 16,
   "metadata": {},
   "outputs": [
    {
     "data": {
      "text/plain": [
       "[[3], [2, 3], [1, 3], [0, 1, 2]]"
      ]
     },
     "execution_count": 16,
     "metadata": {},
     "output_type": "execute_result"
    }
   ],
   "source": [
    "ajouter_arete(g,2,3)"
   ]
  },
  {
   "cell_type": "markdown",
   "metadata": {},
   "source": [
    "Vérifions que `g` a la bonne taille une fois une nouvelle arête ajoutée."
   ]
  },
  {
   "cell_type": "code",
   "execution_count": 17,
   "metadata": {},
   "outputs": [
    {
     "data": {
      "text/plain": [
       "4"
      ]
     },
     "execution_count": 17,
     "metadata": {},
     "output_type": "execute_result"
    }
   ],
   "source": [
    "taille(g)"
   ]
  },
  {
   "cell_type": "code",
   "execution_count": null,
   "metadata": {},
   "outputs": [],
   "source": []
  }
 ],
 "metadata": {
  "interpreter": {
   "hash": "2b06f51acdef60991d66ec4b6ef4ad63ff04a53a1ed63d2c3b87f3e904f32103"
  },
  "kernelspec": {
   "display_name": "Python 3 (ipykernel)",
   "language": "python",
   "name": "python3"
  },
  "language_info": {
   "codemirror_mode": {
    "name": "ipython",
    "version": 3
   },
   "file_extension": ".py",
   "mimetype": "text/x-python",
   "name": "python",
   "nbconvert_exporter": "python",
   "pygments_lexer": "ipython3",
   "version": "3.8.10"
  }
 },
 "nbformat": 4,
 "nbformat_minor": 4
}
