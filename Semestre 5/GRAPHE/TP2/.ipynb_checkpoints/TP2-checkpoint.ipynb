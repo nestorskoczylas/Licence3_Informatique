{
 "cells": [
  {
   "cell_type": "markdown",
   "metadata": {},
   "source": [
    "# TP2 - parcours dans les graphes (en présentiel)"
   ]
  },
  {
   "cell_type": "markdown",
   "metadata": {},
   "source": [
    "Dans le cours, [chapitre 2](http://www.fil.univ-lille1.fr/~varre/portail/graphes/docs/chap02-parcours.pdf), vous avez découvert les parcours de graphes.\n",
    "\n",
    "L'objectif de ce TP est de mettre en œuvre ces algorithmes de parcours et de comprendre ce que sont les arbres couvrant par la même occasion (qu'on a évoqué en cours, et qu'on peut retrouver section du chapitre 2).\n",
    "\n",
    "Nous verrons une application au calcul des composantes connexes d'un graphe."
   ]
  },
  {
   "cell_type": "markdown",
   "metadata": {},
   "source": [
    "## Partie 1 - parcours en largeur et en profondeur"
   ]
  },
  {
   "cell_type": "code",
   "execution_count": 1,
   "metadata": {},
   "outputs": [],
   "source": [
    "import networkx as nx\n",
    "import matplotlib.pyplot as plt"
   ]
  },
  {
   "cell_type": "code",
   "execution_count": 2,
   "metadata": {},
   "outputs": [],
   "source": [
    "g = nx.Graph([(0,1),(0,2),(1,3),(2,4),(2,1),(3,5),(5,1)])"
   ]
  },
  {
   "cell_type": "code",
   "execution_count": 3,
   "metadata": {},
   "outputs": [
    {
     "data": {
      "image/png": "[encoded data removed]",
      "text/plain": [
       "<Figure size 432x288 with 1 Axes>"
      ]
     },
     "metadata": {},
     "output_type": "display_data"
    }
   ],
   "source": [
    "nx.draw(g,with_labels=True)"
   ]
  },
  {
   "cell_type": "markdown",
   "metadata": {},
   "source": [
    "Implanter la fonction `parcours_en_largeur` qui étant donné un `graphe` (NetworkX) et un `sommet` de ce graphe, réalise un parcours en **largeur** et retourne la liste des sommets dans l'ordre dans lequel ils ont été visités."
   ]
  },
  {
   "cell_type": "code",
   "execution_count": 15,
   "metadata": {},
   "outputs": [],
   "source": [
    "def parcours_en_largeur(graphe, depart):\n",
    "    resultat = []\n",
    "    deja_visites = []\n",
    "    for j in len(graphe) :\n",
    "        deja_visites.append(False)\n",
    "    a_traiter = []\n",
    "    a_traiter.append(depart)\n",
    "    while a_traiter != [] :\n",
    "        sommet = a_traiter.pop(0)\n",
    "        if not deja_visites[sommet] :\n",
    "            resultat.append(sommet)\n",
    "            deja_visites.append(sommet)\n",
    "            for i in graphe :\n",
    "                if not deja_visites[i] :\n",
    "                    a_traiter.append(i)\n",
    "    return resultat"
   ]
  },
  {
   "cell_type": "markdown",
   "metadata": {},
   "source": [
    "Tester à partir de chaque sommet et vérifier que le parcours est correct."
   ]
  },
  {
   "cell_type": "code",
   "execution_count": 16,
   "metadata": {},
   "outputs": [
    {
     "ename": "TypeError",
     "evalue": "'Graph' object cannot be interpreted as an integer",
     "output_type": "error",
     "traceback": [
      "\u001b[0;31m---------------------------------------------------------------------------\u001b[0m",
      "\u001b[0;31mTypeError\u001b[0m                                 Traceback (most recent call last)",
      "\u001b[0;32m/tmp/ipykernel_1141006/862185104.py\u001b[0m in \u001b[0;36m<module>\u001b[0;34m\u001b[0m\n\u001b[0;32m----> 1\u001b[0;31m \u001b[0mparcours_en_largeur\u001b[0m\u001b[0;34m(\u001b[0m\u001b[0mg\u001b[0m\u001b[0;34m,\u001b[0m\u001b[0;36m0\u001b[0m\u001b[0;34m)\u001b[0m\u001b[0;34m\u001b[0m\u001b[0;34m\u001b[0m\u001b[0m\n\u001b[0m",
      "\u001b[0;32m/tmp/ipykernel_1141006/3785900050.py\u001b[0m in \u001b[0;36mparcours_en_largeur\u001b[0;34m(graphe, depart)\u001b[0m\n\u001b[1;32m      2\u001b[0m     \u001b[0mresultat\u001b[0m \u001b[0;34m=\u001b[0m \u001b[0;34m[\u001b[0m\u001b[0;34m]\u001b[0m\u001b[0;34m\u001b[0m\u001b[0;34m\u001b[0m\u001b[0m\n\u001b[1;32m      3\u001b[0m     \u001b[0mdeja_visites\u001b[0m \u001b[0;34m=\u001b[0m \u001b[0;34m[\u001b[0m\u001b[0;34m]\u001b[0m\u001b[0;34m\u001b[0m\u001b[0;34m\u001b[0m\u001b[0m\n\u001b[0;32m----> 4\u001b[0;31m     \u001b[0;32mfor\u001b[0m \u001b[0mj\u001b[0m \u001b[0;32min\u001b[0m \u001b[0mrange\u001b[0m \u001b[0;34m(\u001b[0m\u001b[0mgraphe\u001b[0m\u001b[0;34m)\u001b[0m \u001b[0;34m:\u001b[0m\u001b[0;34m\u001b[0m\u001b[0;34m\u001b[0m\u001b[0m\n\u001b[0m\u001b[1;32m      5\u001b[0m         \u001b[0mdeja_visites\u001b[0m\u001b[0;34m.\u001b[0m\u001b[0mappend\u001b[0m\u001b[0;34m(\u001b[0m\u001b[0;32mFalse\u001b[0m\u001b[0;34m)\u001b[0m\u001b[0;34m\u001b[0m\u001b[0;34m\u001b[0m\u001b[0m\n\u001b[1;32m      6\u001b[0m     \u001b[0ma_traiter\u001b[0m \u001b[0;34m=\u001b[0m \u001b[0;34m[\u001b[0m\u001b[0;34m]\u001b[0m\u001b[0;34m\u001b[0m\u001b[0;34m\u001b[0m\u001b[0m\n",
      "\u001b[0;31mTypeError\u001b[0m: 'Graph' object cannot be interpreted as an integer"
     ]
    }
   ],
   "source": [
    "parcours_en_largeur(g,0)"
   ]
  },
  {
   "cell_type": "markdown",
   "metadata": {},
   "source": [
    "Implanter la fonction `parcours_en_profondeur` qui étant donné un `graphe` (NetworkX) et un `sommet` de ce graphe, réalise un parcours en **profondeur** et retourne la liste des sommets dans l'ordre dans lequel ils ont été visités."
   ]
  },
  {
   "cell_type": "code",
   "execution_count": 6,
   "metadata": {},
   "outputs": [],
   "source": [
    "def parcours_en_profondeur(graphe, sommet):\n",
    "    pass"
   ]
  },
  {
   "cell_type": "markdown",
   "metadata": {},
   "source": [
    "Tester à partir de chaque sommet et vérifier que le parcours est correct."
   ]
  },
  {
   "cell_type": "code",
   "execution_count": 7,
   "metadata": {},
   "outputs": [],
   "source": [
    "parcours_en_profondeur(g,0)"
   ]
  },
  {
   "cell_type": "markdown",
   "metadata": {},
   "source": [
    "## Partie 2 - amélioration du parcours\n",
    "\n",
    "Relire le dernier paragraphe de la section 2.2.3 du chapitre 2."
   ]
  },
  {
   "cell_type": "markdown",
   "metadata": {},
   "source": [
    "Reprendre la fonction de parcours en profondeur et afficher l'état de la pile à chaque tour de boucle. Tester et constater que des sommets sont empilés plusieurs fois."
   ]
  },
  {
   "cell_type": "code",
   "execution_count": null,
   "metadata": {},
   "outputs": [],
   "source": []
  },
  {
   "cell_type": "markdown",
   "metadata": {},
   "source": [
    "Reprendre l'algorithme de parcours en profondeur et le modifier pour s'assurer qu'un sommet n'est empilé qu'une et une seule fois dans la pile en cours de parcours."
   ]
  },
  {
   "cell_type": "code",
   "execution_count": 8,
   "metadata": {},
   "outputs": [],
   "source": [
    "def parcours_ameliore(graphe, sommet):\n",
    "    pass"
   ]
  },
  {
   "cell_type": "markdown",
   "metadata": {},
   "source": [
    "Vérifier sur des exemples."
   ]
  },
  {
   "cell_type": "code",
   "execution_count": null,
   "metadata": {},
   "outputs": [],
   "source": []
  },
  {
   "cell_type": "markdown",
   "metadata": {},
   "source": [
    "Est-ce que votre algorithme implémente toujours un parcours en profondeur ?"
   ]
  },
  {
   "cell_type": "markdown",
   "metadata": {},
   "source": [
    "## Partie 3 - arbre de parcours\n",
    "\n",
    "Vous pouvez vous référer à la section 2.3 'Arbres de parcours' du chapitre 2.\n",
    "\n",
    "Comme lorsqu'on parcourt un graphe on construit implictement un arbre de parcours, on propose ici de créer une fonction qui calcule un nouveau graphe qui est un graphe de parcours du graphe initial. Pour construire cet arbre de parcours, il suffit à chaque fois qu'on emprunte une arête de l'ajouter dans le nouvel arbre."
   ]
  },
  {
   "cell_type": "markdown",
   "metadata": {},
   "source": [
    "Reprennez le code de l'algorithme de parcours en profondeur réalisé en partie 1 et modifiez le pour écrire la fonction `arbre_couvrant` qui cette fois retourne un arbre de parcours plutôt que la liste des sommets."
   ]
  },
  {
   "cell_type": "code",
   "execution_count": 9,
   "metadata": {},
   "outputs": [],
   "source": [
    "def arbre_couvrant (graphe, sommet):\n",
    "    return nx.Graph()"
   ]
  },
  {
   "cell_type": "code",
   "execution_count": 10,
   "metadata": {},
   "outputs": [],
   "source": [
    "ac = arbre_couvrant(g,0)"
   ]
  },
  {
   "cell_type": "code",
   "execution_count": 11,
   "metadata": {},
   "outputs": [
    {
     "data": {
      "image/png": "[encoded data removed]",
      "text/plain": [
       "<Figure size 432x288 with 1 Axes>"
      ]
     },
     "metadata": {},
     "output_type": "display_data"
    }
   ],
   "source": [
    "nx.draw(ac,with_labels=True)"
   ]
  },
  {
   "cell_type": "markdown",
   "metadata": {},
   "source": [
    "## Partie 4 - application au calcul de composantes connexes"
   ]
  },
  {
   "cell_type": "markdown",
   "metadata": {},
   "source": [
    "Comme indiqué en section 2.3, un arbre de parcours est appelé arbre couvrant si tous les sommets du graphe sont couverts par un arbre de parcours. L'existence d'un arbre couvrant implique que le graphe est connexe (et réciproquement) puisque qu'à partir de n'importe quel sommet il faut pouvoir accéder à tous les autres (il existe un chemin entre chaque paire de sommets du graphe)."
   ]
  },
  {
   "cell_type": "markdown",
   "metadata": {},
   "source": [
    "Ecrire une fonction `est_connexe` qui teste si un graphe est connexe."
   ]
  },
  {
   "cell_type": "code",
   "execution_count": 12,
   "metadata": {},
   "outputs": [],
   "source": [
    "def est_connexe(graphe):\n",
    "    pass"
   ]
  },
  {
   "cell_type": "markdown",
   "metadata": {},
   "source": [
    "Lire la section 2.4.1 du chapitre 2 qui définit ce qu'est une cmposante connexe."
   ]
  },
  {
   "cell_type": "markdown",
   "metadata": {},
   "source": [
    "Ecrire une fonction `composantes_connexes` qui calcule l'ensemble des composantes connexes d'un graphe."
   ]
  },
  {
   "cell_type": "code",
   "execution_count": 13,
   "metadata": {},
   "outputs": [],
   "source": [
    "def composantes_connexes(graphe):\n",
    "    pass"
   ]
  },
  {
   "cell_type": "code",
   "execution_count": null,
   "metadata": {},
   "outputs": [],
   "source": []
  }
 ],
 "metadata": {
  "kernelspec": {
   "display_name": "Python 3 (ipykernel)",
   "language": "python",
   "name": "python3"
  },
  "language_info": {
   "codemirror_mode": {
    "name": "ipython",
    "version": 3
   },
   "file_extension": ".py",
   "mimetype": "text/x-python",
   "name": "python",
   "nbconvert_exporter": "python",
   "pygments_lexer": "ipython3",
   "version": "3.8.10"
  }
 },
 "nbformat": 4,
 "nbformat_minor": 4
}
