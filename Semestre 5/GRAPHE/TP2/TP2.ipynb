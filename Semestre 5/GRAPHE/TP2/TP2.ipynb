{
 "cells": [
  {
   "cell_type": "markdown",
   "metadata": {},
   "source": [
    "# TP2 - parcours dans les graphes (en présentiel)"
   ]
  },
  {
   "cell_type": "markdown",
   "metadata": {},
   "source": [
    "Dans le cours, [chapitre 2](http://www.fil.univ-lille1.fr/~varre/portail/graphes/docs/chap02-parcours.pdf), vous avez découvert les parcours de graphes.\n",
    "\n",
    "L'objectif de ce TP est de mettre en œuvre ces algorithmes de parcours et de comprendre ce que sont les arbres couvrant par la même occasion (qu'on a évoqué en cours, et qu'on peut retrouver section du chapitre 2).\n",
    "\n",
    "Nous verrons une application au calcul des composantes connexes d'un graphe."
   ]
  },
  {
   "cell_type": "markdown",
   "metadata": {},
   "source": [
    "## Partie 1 - parcours en largeur et en profondeur"
   ]
  },
  {
   "cell_type": "code",
   "execution_count": 1,
   "metadata": {},
   "outputs": [],
   "source": [
    "import networkx as nx\n",
    "import matplotlib.pyplot as plt"
   ]
  },
  {
   "cell_type": "code",
   "execution_count": 2,
   "metadata": {},
   "outputs": [],
   "source": [
    "g = nx.Graph([(0,1),(0,2),(1,3),(2,4),(2,1),(3,5),(5,1)])"
   ]
  },
  {
   "cell_type": "code",
   "execution_count": 3,
   "metadata": {},
   "outputs": [
    {
     "data": {
      "image/png": "[encoded data removed]",
      "text/plain": [
       "<Figure size 432x288 with 1 Axes>"
      ]
     },
     "metadata": {},
     "output_type": "display_data"
    }
   ],
   "source": [
    "nx.draw(g,with_labels=True)"
   ]
  },
  {
   "cell_type": "markdown",
   "metadata": {},
   "source": [
    "Implanter la fonction `parcours_en_largeur` qui étant donné un `graphe` (NetworkX) et un `sommet` de ce graphe, réalise un parcours en **largeur** et retourne la liste des sommets dans l'ordre dans lequel ils ont été visités."
   ]
  },
  {
   "cell_type": "code",
   "execution_count": 4,
   "metadata": {},
   "outputs": [],
   "source": [
    "def parcours_en_largeur(graphe, sommet):\n",
    "    resultat = []\n",
    "    deja_visites = list(graphe.nodes)\n",
    "    a_traiter = []\n",
    "    a_traiter.append(sommet)\n",
    "    while a_traiter != [] :\n",
    "        s = a_traiter.pop(0)\n",
    "        if s in deja_visites :\n",
    "            resultat.append(s)\n",
    "            deja_visites.pop(deja_visites.index(s))\n",
    "            for i in graphe.adj[s] :\n",
    "                if i in deja_visites :\n",
    "                    a_traiter.append(i)\n",
    "    return resultat"
   ]
  },
  {
   "cell_type": "markdown",
   "metadata": {},
   "source": [
    "Tester à partir de chaque sommet et vérifier que le parcours est correct."
   ]
  },
  {
   "cell_type": "code",
   "execution_count": 5,
   "metadata": {},
   "outputs": [
    {
     "data": {
      "text/plain": [
       "[0, 1, 2, 3, 5, 4]"
      ]
     },
     "execution_count": 5,
     "metadata": {},
     "output_type": "execute_result"
    }
   ],
   "source": [
    "parcours_en_largeur(g,0)"
   ]
  },
  {
   "cell_type": "markdown",
   "metadata": {},
   "source": [
    "Implanter la fonction `parcours_en_profondeur` qui étant donné un `graphe` (NetworkX) et un `sommet` de ce graphe, réalise un parcours en **profondeur** et retourne la liste des sommets dans l'ordre dans lequel ils ont été visités."
   ]
  },
  {
   "cell_type": "code",
   "execution_count": 6,
   "metadata": {},
   "outputs": [],
   "source": [
    "def parcours_en_profondeur(graphe, sommet):\n",
    "    resultat = []\n",
    "    deja_visites = list(graphe.nodes)\n",
    "    a_traiter = []\n",
    "    a_traiter.append(sommet)\n",
    "    while a_traiter != [] :\n",
    "        s = a_traiter.pop()\n",
    "        if s in deja_visites :\n",
    "            resultat.append(s)\n",
    "            deja_visites.pop(deja_visites.index(s))\n",
    "            for i in reversed(list(graphe.adj[s])) :\n",
    "                if i in deja_visites :\n",
    "                    a_traiter.append(i)\n",
    "    return resultat"
   ]
  },
  {
   "cell_type": "markdown",
   "metadata": {},
   "source": [
    "Tester à partir de chaque sommet et vérifier que le parcours est correct."
   ]
  },
  {
   "cell_type": "code",
   "execution_count": 7,
   "metadata": {},
   "outputs": [
    {
     "data": {
      "text/plain": [
       "[0, 1, 3, 5, 2, 4]"
      ]
     },
     "execution_count": 7,
     "metadata": {},
     "output_type": "execute_result"
    }
   ],
   "source": [
    "parcours_en_profondeur(g,0)"
   ]
  },
  {
   "cell_type": "markdown",
   "metadata": {},
   "source": [
    "## Partie 2 - amélioration du parcours\n",
    "\n",
    "Relire le dernier paragraphe de la section 2.2.3 du chapitre 2."
   ]
  },
  {
   "cell_type": "markdown",
   "metadata": {},
   "source": [
    "Reprendre la fonction de parcours en profondeur et afficher l'état de la pile à chaque tour de boucle. Tester et constater que des sommets sont empilés plusieurs fois."
   ]
  },
  {
   "cell_type": "code",
   "execution_count": 8,
   "metadata": {},
   "outputs": [
    {
     "name": "stdout",
     "output_type": "stream",
     "text": [
      "[0]\n",
      "[2, 1]\n",
      "[2, 5, 2, 3]\n",
      "[2, 5, 2, 5]\n",
      "[2, 5, 2]\n",
      "[2, 5, 4]\n",
      "[2, 5]\n",
      "[2]\n"
     ]
    },
    {
     "data": {
      "text/plain": [
       "[0, 1, 3, 5, 2, 4]"
      ]
     },
     "execution_count": 8,
     "metadata": {},
     "output_type": "execute_result"
    }
   ],
   "source": [
    "def parcours_en_profondeur(graphe, sommet):\n",
    "    resultat = []\n",
    "    deja_visites = list(graphe.nodes)\n",
    "    a_traiter = []\n",
    "    a_traiter.append(sommet)\n",
    "    while a_traiter != [] :\n",
    "        print(a_traiter)\n",
    "        s = a_traiter.pop()\n",
    "        if s in deja_visites :\n",
    "            resultat.append(s)\n",
    "            deja_visites.pop(deja_visites.index(s))\n",
    "            for i in reversed(list(graphe.adj[s])) :\n",
    "                if i in deja_visites :\n",
    "                    a_traiter.append(i)\n",
    "    return resultat\n",
    "\n",
    "parcours_en_profondeur(g,0)"
   ]
  },
  {
   "cell_type": "markdown",
   "metadata": {},
   "source": [
    "Reprendre l'algorithme de parcours en profondeur et le modifier pour s'assurer qu'un sommet n'est empilé qu'une et une seule fois dans la pile en cours de parcours."
   ]
  },
  {
   "cell_type": "code",
   "execution_count": 9,
   "metadata": {},
   "outputs": [],
   "source": [
    "def parcours_ameliore(graphe, sommet):\n",
    "    resultat = []\n",
    "    deja_visites = list(graphe.nodes)\n",
    "    a_traiter = []\n",
    "    a_traiter.append(sommet)\n",
    "    while a_traiter != [] :\n",
    "        print(a_traiter)\n",
    "        s = a_traiter.pop()\n",
    "        if s in deja_visites :\n",
    "            resultat.append(s)\n",
    "            deja_visites.pop(deja_visites.index(s))\n",
    "            for i in reversed(list(graphe.adj[s])) :\n",
    "                if i in deja_visites and i not in a_traiter :\n",
    "                    a_traiter.append(i)\n",
    "    return resultat"
   ]
  },
  {
   "cell_type": "markdown",
   "metadata": {},
   "source": [
    "Vérifier sur des exemples."
   ]
  },
  {
   "cell_type": "code",
   "execution_count": 10,
   "metadata": {},
   "outputs": [
    {
     "name": "stdout",
     "output_type": "stream",
     "text": [
      "[0]\n",
      "[2, 1]\n",
      "[2, 5, 3]\n",
      "[2, 5]\n",
      "[2]\n",
      "[4]\n"
     ]
    },
    {
     "data": {
      "text/plain": [
       "[0, 1, 3, 5, 2, 4]"
      ]
     },
     "execution_count": 10,
     "metadata": {},
     "output_type": "execute_result"
    }
   ],
   "source": [
    "parcours_ameliore(g,0)"
   ]
  },
  {
   "cell_type": "markdown",
   "metadata": {},
   "source": [
    "Est-ce que votre algorithme implémente toujours un parcours en profondeur ?"
   ]
  },
  {
   "cell_type": "markdown",
   "metadata": {},
   "source": [
    "## Partie 3 - arbre de parcours\n",
    "\n",
    "Vous pouvez vous référer à la section 2.3 'Arbres de parcours' du chapitre 2.\n",
    "\n",
    "Comme lorsqu'on parcourt un graphe on construit implictement un arbre de parcours, on propose ici de créer une fonction qui calcule un nouveau graphe qui est un graphe de parcours du graphe initial. Pour construire cet arbre de parcours, il suffit à chaque fois qu'on emprunte une arête de l'ajouter dans le nouvel arbre."
   ]
  },
  {
   "cell_type": "markdown",
   "metadata": {},
   "source": [
    "Reprennez le code de l'algorithme de parcours en profondeur réalisé en partie 1 et modifiez le pour écrire la fonction `arbre_couvrant` qui cette fois retourne un arbre de parcours plutôt que la liste des sommets."
   ]
  },
  {
   "cell_type": "code",
   "execution_count": 27,
   "metadata": {},
   "outputs": [],
   "source": [
    "def arbre_couvrant (graphe, sommet):\n",
    "    resultat = []\n",
    "    new_g = []\n",
    "    deja_visites = list(graphe.nodes)\n",
    "    a_traiter = []\n",
    "    a_traiter.append(sommet)\n",
    "    while a_traiter != [] :\n",
    "        print(a_traiter)\n",
    "        s = a_traiter.pop()\n",
    "        if s in deja_visites :\n",
    "            resultat.append(s)\n",
    "            deja_visites.pop(deja_visites.index(s))\n",
    "            for i in reversed(list(graphe.adj[s])) :\n",
    "                if i in deja_visites and i not in a_traiter :\n",
    "                    a_traiter.append(i)\n",
    "                    new_g.append((s, i))\n",
    "    return nx.Graph(new_g)"
   ]
  },
  {
   "cell_type": "code",
   "execution_count": 28,
   "metadata": {},
   "outputs": [
    {
     "name": "stdout",
     "output_type": "stream",
     "text": [
      "[0]\n",
      "[2, 1]\n",
      "[2, 5, 3]\n",
      "[2, 5]\n",
      "[2]\n",
      "[4]\n"
     ]
    }
   ],
   "source": [
    "ac = arbre_couvrant(g,0)"
   ]
  },
  {
   "cell_type": "code",
   "execution_count": 29,
   "metadata": {},
   "outputs": [
    {
     "data": {
      "image/png": "[encoded data removed]",
      "text/plain": [
       "<Figure size 432x288 with 1 Axes>"
      ]
     },
     "metadata": {},
     "output_type": "display_data"
    }
   ],
   "source": [
    "nx.draw(ac,with_labels=True)"
   ]
  },
  {
   "cell_type": "markdown",
   "metadata": {},
   "source": [
    "## Partie 4 - application au calcul de composantes connexes"
   ]
  },
  {
   "cell_type": "markdown",
   "metadata": {},
   "source": [
    "Comme indiqué en section 2.3, un arbre de parcours est appelé arbre couvrant si tous les sommets du graphe sont couverts par un arbre de parcours. L'existence d'un arbre couvrant implique que le graphe est connexe (et réciproquement) puisque qu'à partir de n'importe quel sommet il faut pouvoir accéder à tous les autres (il existe un chemin entre chaque paire de sommets du graphe)."
   ]
  },
  {
   "cell_type": "markdown",
   "metadata": {},
   "source": [
    "Ecrire une fonction `est_connexe` qui teste si un graphe est connexe."
   ]
  },
  {
   "cell_type": "code",
   "execution_count": 47,
   "metadata": {},
   "outputs": [
    {
     "data": {
      "text/plain": [
       "True"
      ]
     },
     "execution_count": 47,
     "metadata": {},
     "output_type": "execute_result"
    }
   ],
   "source": [
    "import random\n",
    "def est_connexe(graphe):\n",
    "    if (graphe.number_of_nodes() == 0) :\n",
    "        return True\n",
    "    depart = random.randint(0, graphe.number_of_nodes())\n",
    "    return len(parcours_en_largeur(graphe, depart)) == len(graphe.nodes())\n",
    "\n",
    "est_connexe(g)"
   ]
  },
  {
   "cell_type": "markdown",
   "metadata": {},
   "source": [
    "Lire la section 2.4.1 du chapitre 2 qui définit ce qu'est une cmposante connexe."
   ]
  },
  {
   "cell_type": "markdown",
   "metadata": {},
   "source": [
    "Ecrire une fonction `composantes_connexes` qui calcule l'ensemble des composantes connexes d'un graphe."
   ]
  },
  {
   "cell_type": "code",
   "execution_count": 60,
   "metadata": {},
   "outputs": [],
   "source": [
    "def composantes_connexes(graphe):\n",
    "    res = []\n",
    "    deja_visite = list(graphe.nodes())\n",
    "    for i in graphe.nodes() :\n",
    "        if i not in deja_visite :\n",
    "            deja_visite.pop(deja_visite.index[i])\n",
    "            res.append(parcours_en_largeur(graphe, i))\n",
    "    return res"
   ]
  },
  {
   "cell_type": "code",
   "execution_count": 61,
   "metadata": {},
   "outputs": [
    {
     "data": {
      "text/plain": [
       "[]"
      ]
     },
     "execution_count": 61,
     "metadata": {},
     "output_type": "execute_result"
    }
   ],
   "source": [
    "composantes_connexes(g)"
   ]
  },
  {
   "cell_type": "code",
   "execution_count": null,
   "metadata": {},
   "outputs": [],
   "source": []
  }
 ],
 "metadata": {
  "kernelspec": {
   "display_name": "Python 3 (ipykernel)",
   "language": "python",
   "name": "python3"
  },
  "language_info": {
   "codemirror_mode": {
    "name": "ipython",
    "version": 3
   },
   "file_extension": ".py",
   "mimetype": "text/x-python",
   "name": "python",
   "nbconvert_exporter": "python",
   "pygments_lexer": "ipython3",
   "version": "3.8.10"
  }
 },
 "nbformat": 4,
 "nbformat_minor": 4
}
